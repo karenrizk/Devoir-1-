{
 "cells": [
  {
   "cell_type": "markdown",
   "metadata": {},
   "source": [
    "Exercice 1\n",
    "1. Votre fenêtre graphique doit contenir un canevas de couleur de fond noire et de taille 500x500 ainsi qu’un bouton avec le texte “Recommencer” placé en dessous du canevas.\n",
    "2. Dessiner un rectangle rempli de rouge sur le canvas (la taille et la position sont au choix).\n",
    "3. A chaque clic de l’utilisateur dans le rectangle, le rectangle devient bleu, puis rouge alternativement.\n",
    "4. Si l’utilisateur clique en dehors du rectangle alors le rectangle est figé: c’est-à-dire que si on reclique à l’intérieur de celui-ci, rien ne se passe.\n",
    "5. A tout moment, si l’utilisateur clique sur le bouton “recommencer”, alors on recommence du début avec le rectangle rempli de rouge dessiné."
   ]
  },
  {
   "cell_type": "code",
   "execution_count": 8,
   "metadata": {},
   "outputs": [
    {
     "ename": "NameError",
     "evalue": "name 'button_rectangle' is not defined",
     "output_type": "error",
     "traceback": [
      "\u001b[0;31m---------------------------------------------------------------------------\u001b[0m",
      "\u001b[0;31mNameError\u001b[0m                                 Traceback (most recent call last)",
      "Input \u001b[0;32mIn [8]\u001b[0m, in \u001b[0;36m<module>\u001b[0;34m\u001b[0m\n\u001b[1;32m     16\u001b[0m button_repeat\u001b[39m=\u001b[39mtk\u001b[39m.\u001b[39mButton(racine, text\u001b[39m=\u001b[39m\u001b[39m\"\u001b[39m\u001b[39mRecommencer\u001b[39m\u001b[39m\"\u001b[39m)\n\u001b[1;32m     17\u001b[0m canvas\u001b[39m=\u001b[39mtk\u001b[39m.\u001b[39mCanvas(racine,width\u001b[39m=\u001b[39m\u001b[39m500\u001b[39m,height\u001b[39m=\u001b[39m\u001b[39m500\u001b[39m,bg\u001b[39m=\u001b[39m\u001b[39m\"\u001b[39m\u001b[39mblack\u001b[39m\u001b[39m\"\u001b[39m)\n\u001b[0;32m---> 19\u001b[0m button_rectangle\u001b[39m.\u001b[39mgrid\n\u001b[1;32m     20\u001b[0m button_repeat\u001b[39m.\u001b[39mgrid(column\u001b[39m=\u001b[39m\u001b[39m1\u001b[39m,row\u001b[39m=\u001b[39m\u001b[39m2\u001b[39m)\n\u001b[1;32m     21\u001b[0m canvas\u001b[39m.\u001b[39mgrid(column\u001b[39m=\u001b[39m\u001b[39m1\u001b[39m,row\u001b[39m=\u001b[39m\u001b[39m0\u001b[39m)\n",
      "\u001b[0;31mNameError\u001b[0m: name 'button_rectangle' is not defined"
     ]
    }
   ],
   "source": [
    "########################\n",
    "#Exercice 1 \n",
    "########################\n",
    "\n",
    "import tkinter as tk \n",
    "import random as rd\n",
    "racine=tk.Tk()\n",
    "racine.title(\"Exercice 1\")\n",
    "\n",
    "def rectangle():\n",
    "    global objects\n",
    "    x=rd.randit(0,100)\n",
    "    y=rd.randit(0,100)\n",
    "    object.append(canvas.create_rectangle(x,y,x,y,fill=\"red\"))\n",
    "\n",
    "button_repeat=tk.Button(racine, text=\"Recommencer\")\n",
    "canvas=tk.Canvas(racine,width=500,height=500,bg=\"black\")\n",
    "\n",
    "button_rectangle.grid\n",
    "button_repeat.grid(column=1,row=2)\n",
    "canvas.grid(column=1,row=0)\n",
    "\n",
    "racine.mainloop()\n"
   ]
  },
  {
   "cell_type": "code",
   "execution_count": 22,
   "metadata": {},
   "outputs": [],
   "source": [
    "import tkinter as tk \n",
    "#les variables du rectangles\n",
    "x1,y1=150,150\n",
    "x2,y2=350,350\n",
    "#variable qui donne la couleur du rectangle\n",
    "coul=0\n",
    "\n",
    "#variable qui dit si on continue de change les couleurs\n",
    "continuer =True\n",
    "\n",
    "def recommencer(): \n",
    "    \"\"\"on vera plus tard \"\"\"\n",
    "    global coul,continuer\n",
    "    coul=0\n",
    "    continuer=True\n",
    "    canvas.itemconfigure(rectangle, fill=\"red\")\n",
    "\n",
    "\n",
    "def gestion_clic(event):\n",
    "    \"\"\"docstring\"\"\"\n",
    "    global coul,continuer\n",
    "    if continuer == False:\n",
    "        return\n",
    "\n",
    "    liste_coul=[\"red\", \"blue\"]\n",
    "    #si on est dans le rectangle \n",
    "    if x1 < event.x < x2 and y1 < event.y < y2:\n",
    "        coul=1-coul\n",
    "        canvas.itemconfigure( rectangle, fill=liste_coul[coul])\n",
    "    else:  \n",
    "        continuer=False  \n",
    "\n",
    "\n",
    "\n",
    "#creation des widgets \n",
    "racine=tk.Tk()\n",
    "racine.title(\"Exercice 1\")\n",
    "canvas=tk.Canvas(racine,bg=\"black\", width=500, height=500)\n",
    "bouton=tk.Button(racine,text=\"Recommencer\",command=recommencer)\n",
    "\n",
    "#création du rectangle\n",
    "rectangle=canvas.create_rectangle((x1,x2),(x2,y2),fill=\"red\")\n",
    " \n",
    "#liaison de l'évenement \n",
    "canvas.bind('<Button-1>',gestion_clic)\n",
    "\n",
    "#positionnement des widgets\n",
    "canvas.grid()\n",
    "bouton.grid(row=1)\n",
    "racine.mainloop()"
   ]
  }
 ],
 "metadata": {
  "interpreter": {
   "hash": "beb4f305451b4835b36a63cb1c75e625a7251cf8d76b65be2f5856eee68cb551"
  },
  "kernelspec": {
   "display_name": "Python 2.7.10 64-bit",
   "language": "python",
   "name": "python3"
  },
  "language_info": {
   "codemirror_mode": {
    "name": "ipython",
    "version": 3
   },
   "file_extension": ".py",
   "mimetype": "text/x-python",
   "name": "python",
   "nbconvert_exporter": "python",
   "pygments_lexer": "ipython3",
   "version": "3.9.5"
  },
  "orig_nbformat": 4
 },
 "nbformat": 4,
 "nbformat_minor": 2
}
